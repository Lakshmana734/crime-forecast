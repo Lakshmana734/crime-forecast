{
  "nbformat": 4,
  "nbformat_minor": 0,
  "metadata": {
    "colab": {
      "provenance": [],
      "gpuType": "T4"
    },
    "kernelspec": {
      "name": "python3",
      "display_name": "Python 3"
    },
    "language_info": {
      "name": "python"
    },
    "accelerator": "GPU"
  },
  "cells": [
    {
      "cell_type": "code",
      "execution_count": null,
      "metadata": {
        "id": "T3YxOfS4nm7X"
      },
      "outputs": [],
      "source": [
        "# imported pacakges\n"
      ]
    },
    {
      "cell_type": "code",
      "source": [
        "import pandas as pd"
      ],
      "metadata": {
        "id": "bd1wrPRhpLA0"
      },
      "execution_count": null,
      "outputs": []
    },
    {
      "cell_type": "code",
      "source": [
        "crime_data = pd.read_excel('/content/crime_data.xlsx')"
      ],
      "metadata": {
        "id": "mewi2I3HpMQb"
      },
      "execution_count": null,
      "outputs": []
    },
    {
      "cell_type": "code",
      "source": [
        "crime_data.info()"
      ],
      "metadata": {
        "id": "-kRO3vLvpQvQ",
        "colab": {
          "base_uri": "https://localhost:8080/"
        },
        "outputId": "f8734f32-abbd-404c-a120-ef747bb8403b"
      },
      "execution_count": null,
      "outputs": [
        {
          "output_type": "stream",
          "name": "stdout",
          "text": [
            "<class 'pandas.core.frame.DataFrame'>\n",
            "RangeIndex: 7584 entries, 0 to 7583\n",
            "Data columns (total 11 columns):\n",
            " #   Column           Non-Null Count  Dtype         \n",
            "---  ------           --------------  -----         \n",
            " 0   CATEGORY         7584 non-null   object        \n",
            " 1   CALL GROUPS      7584 non-null   object        \n",
            " 2   final_case_type  7584 non-null   object        \n",
            " 3   CASE DESC        7584 non-null   object        \n",
            " 4   occ_date         7584 non-null   datetime64[ns]\n",
            " 5   x_coordinate     7584 non-null   int64         \n",
            " 6   y_coordinate     7584 non-null   int64         \n",
            " 7   census_tract     7220 non-null   float64       \n",
            " 8   day              7584 non-null   int64         \n",
            " 9   month            7584 non-null   int64         \n",
            " 10  year             7584 non-null   int64         \n",
            "dtypes: datetime64[ns](1), float64(1), int64(5), object(4)\n",
            "memory usage: 651.9+ KB\n"
          ]
        }
      ]
    },
    {
      "cell_type": "code",
      "source": [
        "crime_test_data = pd.read_excel('/content/crime_test_data.xlsx')"
      ],
      "metadata": {
        "id": "Ptj3OX1-pTbP"
      },
      "execution_count": null,
      "outputs": []
    },
    {
      "cell_type": "code",
      "source": [
        "crime_test_data.info()"
      ],
      "metadata": {
        "id": "tf1ufvgBpbLb",
        "colab": {
          "base_uri": "https://localhost:8080/"
        },
        "outputId": "4098ff67-a400-4419-fabb-dc8232287de3"
      },
      "execution_count": null,
      "outputs": [
        {
          "output_type": "stream",
          "name": "stdout",
          "text": [
            "<class 'pandas.core.frame.DataFrame'>\n",
            "RangeIndex: 7584 entries, 0 to 7583\n",
            "Data columns (total 8 columns):\n",
            " #   Column           Non-Null Count  Dtype         \n",
            "---  ------           --------------  -----         \n",
            " 0   CATEGORY         7584 non-null   object        \n",
            " 1   CALL GROUPS      7584 non-null   object        \n",
            " 2   final_case_type  7584 non-null   object        \n",
            " 3   CASE DESC        7584 non-null   object        \n",
            " 4   occ_date         7584 non-null   datetime64[ns]\n",
            " 5   x_coordinate     7584 non-null   int64         \n",
            " 6   y_coordinate     7584 non-null   int64         \n",
            " 7   census_tract     7220 non-null   float64       \n",
            "dtypes: datetime64[ns](1), float64(1), int64(2), object(4)\n",
            "memory usage: 474.1+ KB\n"
          ]
        }
      ]
    },
    {
      "cell_type": "code",
      "source": [
        "total_data = pd.read_excel('/content/total_data.xlsx')"
      ],
      "metadata": {
        "id": "OYUK_Wbxpcqo"
      },
      "execution_count": null,
      "outputs": []
    },
    {
      "cell_type": "code",
      "source": [
        "total_data.info()"
      ],
      "metadata": {
        "id": "jWYyIn37qHI_",
        "colab": {
          "base_uri": "https://localhost:8080/"
        },
        "outputId": "ef10adf5-f7d2-48fa-ad9d-7eedf110e3cf"
      },
      "execution_count": null,
      "outputs": [
        {
          "output_type": "stream",
          "name": "stdout",
          "text": [
            "<class 'pandas.core.frame.DataFrame'>\n",
            "RangeIndex: 7584 entries, 0 to 7583\n",
            "Data columns (total 8 columns):\n",
            " #   Column        Non-Null Count  Dtype  \n",
            "---  ------        --------------  -----  \n",
            " 0   Unnamed: 0    7584 non-null   int64  \n",
            " 1   day_of_week   7584 non-null   int64  \n",
            " 2   month         7584 non-null   int64  \n",
            " 3   year          7584 non-null   int64  \n",
            " 4   x_coordinate  7584 non-null   int64  \n",
            " 5   y_coordinate  7584 non-null   int64  \n",
            " 6   census_tract  7584 non-null   float64\n",
            " 7   CATEGORY      7584 non-null   object \n",
            "dtypes: float64(1), int64(6), object(1)\n",
            "memory usage: 474.1+ KB\n"
          ]
        }
      ]
    },
    {
      "cell_type": "code",
      "source": [
        "!pip install geopandas"
      ],
      "metadata": {
        "id": "CglCGG0aqIF6",
        "colab": {
          "base_uri": "https://localhost:8080/"
        },
        "outputId": "cbd89196-35ca-48aa-bded-acd2aab95bc0"
      },
      "execution_count": null,
      "outputs": [
        {
          "output_type": "stream",
          "name": "stdout",
          "text": [
            "Requirement already satisfied: geopandas in /usr/local/lib/python3.10/dist-packages (1.0.1)\n",
            "Requirement already satisfied: numpy>=1.22 in /usr/local/lib/python3.10/dist-packages (from geopandas) (1.26.4)\n",
            "Requirement already satisfied: pyogrio>=0.7.2 in /usr/local/lib/python3.10/dist-packages (from geopandas) (0.10.0)\n",
            "Requirement already satisfied: packaging in /usr/local/lib/python3.10/dist-packages (from geopandas) (24.2)\n",
            "Requirement already satisfied: pandas>=1.4.0 in /usr/local/lib/python3.10/dist-packages (from geopandas) (2.2.2)\n",
            "Requirement already satisfied: pyproj>=3.3.0 in /usr/local/lib/python3.10/dist-packages (from geopandas) (3.7.0)\n",
            "Requirement already satisfied: shapely>=2.0.0 in /usr/local/lib/python3.10/dist-packages (from geopandas) (2.0.6)\n",
            "Requirement already satisfied: python-dateutil>=2.8.2 in /usr/local/lib/python3.10/dist-packages (from pandas>=1.4.0->geopandas) (2.8.2)\n",
            "Requirement already satisfied: pytz>=2020.1 in /usr/local/lib/python3.10/dist-packages (from pandas>=1.4.0->geopandas) (2024.2)\n",
            "Requirement already satisfied: tzdata>=2022.7 in /usr/local/lib/python3.10/dist-packages (from pandas>=1.4.0->geopandas) (2024.2)\n",
            "Requirement already satisfied: certifi in /usr/local/lib/python3.10/dist-packages (from pyogrio>=0.7.2->geopandas) (2024.8.30)\n",
            "Requirement already satisfied: six>=1.5 in /usr/local/lib/python3.10/dist-packages (from python-dateutil>=2.8.2->pandas>=1.4.0->geopandas) (1.16.0)\n"
          ]
        }
      ]
    },
    {
      "cell_type": "code",
      "source": [
        "import pandas as pd\n",
        "import geopandas as gpd\n",
        "from shapely.geometry import Point, Polygon\n",
        "import matplotlib.pyplot as plt\n",
        "from sklearn.ensemble import RandomForestClassifier\n",
        "from sklearn.metrics import classification_report, accuracy_score\n",
        "from sklearn.model_selection import train_test_split\n",
        "\n",
        "\n",
        "# Converted latitude and longitude into a GeoDataFrame\n",
        "geometry = [Point(xy) for xy in zip(crime_data['x_coordinate'], crime_data['y_coordinate'])]\n",
        "crime_gdf = gpd.GeoDataFrame(crime_data, geometry=geometry)\n",
        "crime_gdf.set_crs(epsg=4326, inplace=True)\n",
        "\n",
        "# Calculated bounding box dynamically from the data\n",
        "xmin, ymin, xmax, ymax = (\n",
        "    crime_gdf.total_bounds[0],\n",
        "    crime_gdf.total_bounds[1],\n",
        "    crime_gdf.total_bounds[2],\n",
        "    crime_gdf.total_bounds[3]\n",
        ")\n",
        "\n",
        "# Defined grid size\n",
        "cell_size = 0.002  # Approx. 250x250 sq. ft\n",
        "\n",
        "# Created a grid of polygons\n",
        "grid_cells = []\n",
        "x_start, x_end, y_start, y_end = xmin, xmax, ymin, ymax\n",
        "while x_start < x_end:\n",
        "    y_temp = y_start\n",
        "    while y_temp < y_end:\n",
        "        grid_cells.append(Polygon([\n",
        "            (x_start, y_temp),\n",
        "            (x_start + cell_size, y_temp),\n",
        "            (x_start + cell_size, y_temp + cell_size),\n",
        "            (x_start, y_temp + cell_size)\n",
        "        ]))\n",
        "        y_temp += cell_size\n",
        "    x_start += cell_size\n",
        "\n",
        "# Created a GeoDataFrame for the grid\n",
        "grid_gdf = gpd.GeoDataFrame(geometry=grid_cells, crs=\"EPSG:4326\")\n",
        "\n",
        "# Performed a spatial join to map crimes to grid cells\n",
        "crime_to_grid = gpd.sjoin(crime_gdf, grid_gdf, how=\"left\", op=\"within\")\n",
        "\n",
        "# Counted crimes per grid cell\n",
        "crime_counts = crime_to_grid.groupby('index_right').size().reset_index(name='crime_count')\n",
        "grid_gdf['crime_count'] = 0  # Initialize with 0\n",
        "grid_gdf.loc[crime_counts['index_right'], 'crime_count'] = crime_counts['crime_count']\n",
        "\n",
        "# Defined the hotspot threshold (e.g., 95th percentile of crime counts)\n",
        "threshold = grid_gdf['crime_count'].quantile(0.95)\n",
        "grid_gdf['hotspot'] = (grid_gdf['crime_count'] >= threshold).astype(int)\n",
        "\n",
        "# Visualized the grid with hotspots\n",
        "fig, ax = plt.subplots(figsize=(12, 12))\n",
        "grid_gdf.plot(ax=ax, column='hotspot', cmap='coolwarm', legend=True, alpha=0.6)\n",
        "plt.title(\"Crime Hotspots\")\n",
        "plt.show()\n",
        "\n",
        "# Added  features for classification\n",
        "grid_gdf['neighbor_crime_count'] = grid_gdf.geometry.apply(\n",
        "    lambda cell: grid_gdf[grid_gdf.geometry.touches(cell)]['crime_count'].sum()\n",
        ")\n",
        "\n",
        "# Created the feature and target dataset\n",
        "features = grid_gdf[['crime_count', 'neighbor_crime_count']].fillna(0)\n",
        "target = grid_gdf['hotspot']\n",
        "\n",
        "# Splited into training and testing datasets\n",
        "X_train, X_test, y_train, y_test = train_test_split(features, target, test_size=0.2, random_state=42)\n",
        "\n",
        "# Trained a Random Forest Classifier\n",
        "clf = RandomForestClassifier(n_estimators=100, random_state=42)\n",
        "clf.fit(X_train, y_train)\n",
        "\n",
        "# Predicted on the test set\n",
        "y_pred = clf.predict(X_test)\n",
        "\n",
        "# Evaluated the model\n",
        "print(\"Accuracy:\", accuracy_score(y_test, y_pred))\n",
        "print(\"Classification Report:\\n\", classification_report(y_test, y_pred))\n",
        "\n",
        "# Add predictions to the grid for visualization\n",
        "grid_gdf['predicted_hotspot'] = 0  # Initialize\n",
        "grid_gdf.loc[X_test.index, 'predicted_hotspot'] = y_pred\n",
        "\n",
        "# Visualized predicted hotspots\n",
        "fig, ax = plt.subplots(figsize=(12, 12))\n",
        "grid_gdf.plot(ax=ax, column='predicted_hotspot', cmap='coolwarm', legend=True, alpha=0.6)\n",
        "plt.title(\"Predicted Hotspots\")\n",
        "plt.show()\n",
        "\n",
        "# Saved the results\n",
        "grid_gdf.to_file('predicted_hotspots.geojson', driver='GeoJSON')\n",
        "grid_gdf[['crime_count', 'neighbor_crime_count', 'hotspot', 'predicted_hotspot']].to_csv('predicted_hotspots.csv', index=False)\n"
      ],
      "metadata": {
        "id": "1nTmxFcpnilM"
      },
      "execution_count": null,
      "outputs": []
    },
    {
      "cell_type": "code",
      "source": [],
      "metadata": {
        "id": "CbwBJKcBtvdZ"
      },
      "execution_count": null,
      "outputs": []
    },
    {
      "cell_type": "code",
      "source": [],
      "metadata": {
        "id": "P6uaGc2TnmTj"
      },
      "execution_count": null,
      "outputs": []
    }
  ]
}